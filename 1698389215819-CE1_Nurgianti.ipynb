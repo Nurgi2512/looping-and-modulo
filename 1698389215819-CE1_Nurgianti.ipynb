{
  "nbformat": 4,
  "nbformat_minor": 0,
  "metadata": {
    "colab": {
      "provenance": []
    },
    "kernelspec": {
      "name": "python3",
      "display_name": "Python 3"
    },
    "language_info": {
      "name": "python"
    }
  },
  "cells": [
    {
      "cell_type": "markdown",
      "source": [
        "# Coding Challenge 1 : Looping & Modulo\n",
        "\n",
        "Minggu ini, challenge kita adalah melakukan looping dengan Python. Contoh looping :"
      ],
      "metadata": {
        "id": "21Q6Yhc2Fy9p"
      }
    },
    {
      "cell_type": "code",
      "source": [
        "for x in range (1, 3) :\n",
        "  print(x)"
      ],
      "metadata": {
        "colab": {
          "base_uri": "https://localhost:8080/"
        },
        "id": "n0EJql6MGZFK",
        "outputId": "8b387879-e503-4906-f2cf-c74b60560541"
      },
      "execution_count": 3,
      "outputs": [
        {
          "output_type": "stream",
          "name": "stdout",
          "text": [
            "1\n",
            "2\n"
          ]
        }
      ]
    },
    {
      "cell_type": "markdown",
      "source": [
        "### **Soal 1**:\n",
        "\n",
        "Print out integers which are multiples of 3 from 1 to 22.\n",
        "(Print out bilangan bulat yang merupakan kelipatan 3 dari 1 sampai 22).\n",
        "\n",
        "**Ekspektasi jawaban:**\n",
        "\n",
        "Ketika kode kalian di-run, muncul angka-angka: 3, 6, 9, 12, 15, 18, 21. Gunakan looping."
      ],
      "metadata": {
        "id": "8Pk4S8y1GF_G"
      }
    },
    {
      "cell_type": "code",
      "source": [
        "for i in range(1, 23):\n",
        "    if i % 3 == 0:\n",
        "        print(i)"
      ],
      "metadata": {
        "colab": {
          "base_uri": "https://localhost:8080/"
        },
        "id": "oLVb53fSYHOH",
        "outputId": "3ed9ab10-97e3-4565-92c1-73a870747702"
      },
      "execution_count": 7,
      "outputs": [
        {
          "output_type": "stream",
          "name": "stdout",
          "text": [
            "3\n",
            "6\n",
            "9\n",
            "12\n",
            "15\n",
            "18\n",
            "21\n"
          ]
        }
      ]
    },
    {
      "cell_type": "markdown",
      "source": [
        "### **Soal 2**:\n",
        "\n",
        "Buat sebuah function di Python untuk mengecek apakah sebuah angka merupakan bilangan prima atau bukan.\n",
        "\n",
        "Ekspektasi jawaban:\n",
        "\n",
        "misal fungsi Anda bernama prime_check. Ketika kita jalankan prime_check(5), maka outputnya adalah '5 is a Prime number'. Fungsi ini harus bisa berlaku untuk input apa pun.\n",
        "\n",
        "Clue: Pengecekan bilangan prima menggunakan looping dan modulo.\n",
        "```(python)\n",
        "print('Hasil dari 5 modulo 2 adalah',5 % 2)  \n",
        "# 5 Modulo 2 sama dengan 1. Artinya, 5 dibagi 2, sisanya 1\n",
        "\n",
        "print('Hasil dari 6 modulo 3 adalah', 6 % 3)\n",
        "# 6 Modulo 3 sama dengan 0. Artinya 6 dibagi 3, sisanya 0.\n",
        "```\n",
        "\n",
        "Selamat mengerjakan!"
      ],
      "metadata": {
        "id": "B3KWeHp2G3Pi"
      }
    },
    {
      "cell_type": "code",
      "source": [
        "def prime_check(number):\n",
        "    if number <= 1:\n",
        "        return f\"{number} is not a Prime number\"\n",
        "    if number == 2:\n",
        "        return f\"{number} is a Prime number\"\n",
        "    if number % 2 == 0:\n",
        "        return f\"{number} is not a Prime number\"\n",
        "\n",
        "    for i in range(3, int(number**0.5) + 1, 2):\n",
        "        if number % i == 0:\n",
        "            return f\"{number} is not a Prime number\"\n",
        "\n",
        "    return f\"{number} is a Prime number\"\n",
        "\n",
        "print(prime_check(6))\n",
        "print(prime_check(5))\n",
        "print(prime_check(4))\n",
        "print(prime_check(2))\n",
        "print(prime_check(1))\n",
        "\n",
        ""
      ],
      "metadata": {
        "id": "jNzJrYNCJmBw",
        "colab": {
          "base_uri": "https://localhost:8080/"
        },
        "outputId": "8ccf19f6-5254-4e8d-d0ae-d925d00ecf78"
      },
      "execution_count": 7,
      "outputs": [
        {
          "output_type": "stream",
          "name": "stdout",
          "text": [
            "6 is not a Prime number\n",
            "5 is a Prime number\n",
            "4 is not a Prime number\n",
            "2 is a Prime number\n",
            "1 is not a Prime number\n"
          ]
        }
      ]
    }
  ]
}